{
  "nbformat": 4,
  "nbformat_minor": 0,
  "metadata": {
    "colab": {
      "name": "Proyecto.ipynb",
      "provenance": [],
      "collapsed_sections": [],
      "include_colab_link": true
    },
    "kernelspec": {
      "name": "python3",
      "display_name": "Python 3"
    },
    "language_info": {
      "name": "python"
    }
  },
  "cells": [
    {
      "cell_type": "markdown",
      "metadata": {
        "id": "view-in-github",
        "colab_type": "text"
      },
      "source": [
        "<a href=\"https://colab.research.google.com/github/Molvilada/ProyectoCompiladores/blob/main/Proyecto.ipynb\" target=\"_parent\"><img src=\"https://colab.research.google.com/assets/colab-badge.svg\" alt=\"Open In Colab\"/></a>"
      ]
    },
    {
      "cell_type": "markdown",
      "source": [
        "**Grupo conformado por:** Javier Fernando Gonzalez Guzman y Laura Daniela Molina Villar\n"
      ],
      "metadata": {
        "id": "rCaApk_YKj4k"
      }
    },
    {
      "cell_type": "markdown",
      "source": [
        "El archivo que se tiene que subir es un txt, conformado de la siguiente manera:\n",
        "\n",
        "\n",
        "*   Los no terminales solo pueden ser letras mayúsculas, y conformados por UNA sola letra\n",
        "*   Si una regla tiene más de una producción, se van a separar con el carácter | \n",
        "*   Para utilizar epsilon se debe emplear el símbolo €\n",
        "*   Los terminales deben ir al final de documento, separados por espacios en blanco\n",
        "\n",
        "Ejemplo:\n",
        "\n",
        "*gramatica.txt*\n",
        "\n",
        "\n",
        "S -> (A)\n",
        "\n",
        "A -> CB\n",
        "\n",
        "B -> ;A | €\n",
        "\n",
        "C -> x | S\n",
        "\n",
        "\n",
        "\n",
        "( ) ; €\n",
        "\n",
        "\n",
        "\n",
        "\n"
      ],
      "metadata": {
        "id": "ggU2evrpKldn"
      }
    },
    {
      "cell_type": "code",
      "source": [
        "from google.colab import files\n",
        "\n",
        "\n",
        "uploaded = files.upload()\n",
        "print(uploaded)"
      ],
      "metadata": {
        "colab": {
          "resources": {
            "http://localhost:8080/nbextensions/google.colab/files.js": {
              "data": "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",
              "ok": true,
              "headers": [
                [
                  "content-type",
                  "application/javascript"
                ]
              ],
              "status": 200,
              "status_text": ""
            }
          },
          "base_uri": "https://localhost:8080/",
          "height": 91
        },
        "id": "onggQ0UqzR_g",
        "outputId": "f02b3fd7-a404-438d-9b4c-37d12f357388"
      },
      "execution_count": null,
      "outputs": [
        {
          "output_type": "display_data",
          "data": {
            "text/html": [
              "\n",
              "     <input type=\"file\" id=\"files-ee983c3b-e7c1-45da-a6b1-e8ea6b88b01f\" name=\"files[]\" multiple disabled\n",
              "        style=\"border:none\" />\n",
              "     <output id=\"result-ee983c3b-e7c1-45da-a6b1-e8ea6b88b01f\">\n",
              "      Upload widget is only available when the cell has been executed in the\n",
              "      current browser session. Please rerun this cell to enable.\n",
              "      </output>\n",
              "      <script src=\"/nbextensions/google.colab/files.js\"></script> "
            ],
            "text/plain": [
              "<IPython.core.display.HTML object>"
            ]
          },
          "metadata": {}
        },
        {
          "output_type": "stream",
          "name": "stdout",
          "text": [
            "Saving gramatica_clase.txt to gramatica_clase.txt\n",
            "{'gramatica_clase.txt': b'E -> TA\\r\\nA -> +TA | \\xe2\\x82\\xac\\r\\nT -> FB\\r\\nB -> *FB | \\xe2\\x82\\xac\\r\\nF -> (E) | id\\r\\n\\r\\n+ * id \\xe2\\x82\\xac'}\n"
          ]
        }
      ]
    },
    {
      "cell_type": "code",
      "source": [
        "!ls"
      ],
      "metadata": {
        "colab": {
          "base_uri": "https://localhost:8080/"
        },
        "id": "YvvowlY6SC-C",
        "outputId": "6acb9d78-69fa-4d22-ca30-00182f69233d"
      },
      "execution_count": null,
      "outputs": [
        {
          "output_type": "stream",
          "name": "stdout",
          "text": [
            "gramatica_clase.txt  sample_data\n"
          ]
        }
      ]
    },
    {
      "cell_type": "code",
      "source": [
        "!rm gramatica_clase.txt"
      ],
      "metadata": {
        "id": "ATWGJOQDu1Fr"
      },
      "execution_count": null,
      "outputs": []
    },
    {
      "cell_type": "code",
      "source": [
        "!rm gramatica.txt"
      ],
      "metadata": {
        "id": "LiXIG81HSE0i"
      },
      "execution_count": null,
      "outputs": []
    },
    {
      "cell_type": "code",
      "source": [
        "pip install anytree"
      ],
      "metadata": {
        "colab": {
          "base_uri": "https://localhost:8080/"
        },
        "id": "Gv_MDyCk74Ir",
        "outputId": "10d47478-1a8f-4635-f521-b24a870ba1cb"
      },
      "execution_count": null,
      "outputs": [
        {
          "output_type": "stream",
          "name": "stdout",
          "text": [
            "Collecting anytree\n",
            "  Downloading anytree-2.8.0-py2.py3-none-any.whl (41 kB)\n",
            "\u001b[?25l\r\u001b[K     |███████▉                        | 10 kB 19.8 MB/s eta 0:00:01\r\u001b[K     |███████████████▊                | 20 kB 25.1 MB/s eta 0:00:01\r\u001b[K     |███████████████████████▋        | 30 kB 12.6 MB/s eta 0:00:01\r\u001b[K     |███████████████████████████████▍| 40 kB 9.7 MB/s eta 0:00:01\r\u001b[K     |████████████████████████████████| 41 kB 454 kB/s \n",
            "\u001b[?25hRequirement already satisfied: six>=1.9.0 in /usr/local/lib/python3.7/dist-packages (from anytree) (1.15.0)\n",
            "Installing collected packages: anytree\n",
            "Successfully installed anytree-2.8.0\n"
          ]
        }
      ]
    },
    {
      "cell_type": "code",
      "source": [
        "pip install graphviz"
      ],
      "metadata": {
        "colab": {
          "base_uri": "https://localhost:8080/"
        },
        "id": "pyrnyfpEo9K0",
        "outputId": "97ab123e-3ef6-4fbd-ca89-5477e143991a"
      },
      "execution_count": null,
      "outputs": [
        {
          "output_type": "stream",
          "name": "stdout",
          "text": [
            "Requirement already satisfied: graphviz in /usr/local/lib/python3.7/dist-packages (0.10.1)\n"
          ]
        }
      ]
    },
    {
      "cell_type": "code",
      "source": [
        "import itertools\n",
        "import json\n",
        "from anytree import Node, RenderTree, util\n",
        "from anytree.exporter import UniqueDotExporter\n",
        "from IPython.display import Image"
      ],
      "metadata": {
        "id": "tHLYuZhOpHGZ"
      },
      "execution_count": null,
      "outputs": []
    },
    {
      "cell_type": "code",
      "execution_count": null,
      "metadata": {
        "id": "17w8AE7IulTh"
      },
      "outputs": [],
      "source": [
        "gramatica = {}\n",
        "primerosTotal = {}\n",
        "primerosPorProduccion = {}\n",
        "siguientesTotal = {}\n",
        "noTerminales = []\n",
        "terminales = []\n",
        "nombreArchivo = \"gramatica_clase.txt\"\n",
        "\n",
        "def lecturaGramatica():\n",
        "  global terminales\n",
        "  fichero = open(nombreArchivo)\n",
        "  lineas = fichero.readlines()\n",
        "  for i in range(0, len(lineas) -2):\n",
        "    produccion = lineas[i].strip().replace(\" \", \"\").split(\"->\")\n",
        "    produccion[1] = produccion[1].split(\"|\") \n",
        "    gramatica[produccion[0]] = produccion[1] \n",
        "    noTerminales.append(produccion[0])\n",
        "  terminales = lineas[-1].split(\" \")\n",
        "  \n",
        "\n",
        "def generarPrimeros(produccion): \n",
        "  primeros = []\n",
        "  if(produccion[0] not in noTerminales):\n",
        "    terminalActual = \"\"\n",
        "    i = 0\n",
        "    noTerminalEncontrado = False\n",
        "    while(not noTerminalEncontrado and i <= len(produccion) - 1):\n",
        "      if (produccion[i] in noTerminales):\n",
        "        noTerminalEncontrado = True\n",
        "      else:\n",
        "        terminalActual = terminalActual + produccion[i]\n",
        "        i = i + 1\n",
        "    primeros.append(terminalActual)\n",
        "  else:\n",
        "    for caracter in produccion:\n",
        "      if(caracter in terminales):\n",
        "        break\n",
        "      elif(caracter == reglaActual):\n",
        "        continue\n",
        "      else:\n",
        "        if(caracter in primerosTotal.keys()):\n",
        "          primeros.extend(primerosTotal[caracter])\n",
        "        else:\n",
        "          for prod in gramatica[caracter]:\n",
        "            primeros.extend(generarPrimeros(prod))\n",
        "          if(\"€\" not in primeros):\n",
        "            break\n",
        "        if(caracter != produccion[-1] and \"€\" in primeros):\n",
        "            primeros = [i for i in primeros if i!=\"€\"]\n",
        "  return list(set(primeros))\n",
        "\n",
        "\n",
        "\n",
        "reglaActual = None\n",
        "\n",
        "def generarPrimerosTotales():\n",
        "  global reglaActual\n",
        "  for key in noTerminales:  \n",
        "    primerosTotal[key] = []\n",
        "    primerosPorProduccion[key] = []  \n",
        "    reglaActual = key\n",
        "    for produccion in gramatica[key]: \n",
        "      primerosPorProduccion[key].append(generarPrimeros(produccion)) \n",
        "      primerosTotal[key] = list(set(list(itertools.chain.from_iterable(primerosPorProduccion[key]))))\n",
        "    reglaActual = None\n",
        "\n",
        "\n",
        "def completarSiguientes(noTerminal, siguientesVisitados): \n",
        "    siguientesVisitados[noTerminal] = True\n",
        "    siguientesCopy = siguientesTotal[noTerminal].copy()\n",
        "    for caracter in siguientesTotal[noTerminal]:\n",
        "      if caracter in noTerminales:\n",
        "        if siguientesVisitados[caracter] == False:\n",
        "          siguientesCopy.extend(completarSiguientes(caracter, siguientesVisitados))\n",
        "          siguientesCopy.remove(caracter)\n",
        "          if(noTerminal in siguientesCopy):\n",
        "            siguientesCopy.remove(noTerminal)\n",
        "        else:\n",
        "          siguientesCopy.extend(siguientesTotal[caracter])\n",
        "          siguientesCopy.remove(caracter)\n",
        "          if(noTerminal in siguientesCopy):\n",
        "            siguientesCopy.remove(noTerminal)\n",
        "    siguientesTotal[noTerminal] = siguientesCopy\n",
        "    return siguientesTotal[noTerminal]\n",
        "\n",
        "def generarSiguientesTotales():\n",
        "  for i in range(0, len(noTerminales)):\n",
        "    key = noTerminales[i] \n",
        "    if i == 0:\n",
        "      siguientesTotal[key] = [\"$\"]\n",
        "    for produccion in gramatica[key]: \n",
        "      for j in range(0, len(produccion)):\n",
        "        if produccion[j] not in noTerminales:\n",
        "          continue\n",
        "        else:\n",
        "          if(produccion[j] not in siguientesTotal.keys()):\n",
        "            siguientesTotal[produccion[j]] = []\n",
        "          if(j != len(produccion) - 1):\n",
        "            siguientesTotal[produccion[j]].extend(generarPrimeros(produccion[j+1:]))\n",
        "            if(\"€\" in siguientesTotal[produccion[j]]):\n",
        "              siguientesTotal[produccion[j]].remove(\"€\")\n",
        "              siguientesTotal[produccion[j]].extend(key)\n",
        "          else:\n",
        "            if produccion[j] != key:\n",
        "              siguientesTotal[produccion[j]].extend(key)\n",
        "\n",
        "  for key in siguientesTotal.keys():  \n",
        "    siguientesVisitados = dict.fromkeys(siguientesTotal.keys(), False)\n",
        "    completarSiguientes(key,siguientesVisitados)\n",
        "    siguientesTotal[key] = list(set(siguientesTotal[key]))"
      ]
    },
    {
      "cell_type": "code",
      "source": [
        "lecturaGramatica()\n",
        "print(json.dumps(gramatica, indent=4, ensure_ascii=False))"
      ],
      "metadata": {
        "colab": {
          "base_uri": "https://localhost:8080/"
        },
        "id": "Ss5MFgDHw_6_",
        "outputId": "4819b31f-1381-4a69-a342-f2e1888415de"
      },
      "execution_count": null,
      "outputs": [
        {
          "output_type": "stream",
          "name": "stdout",
          "text": [
            "{\n",
            "    \"E\": [\n",
            "        \"TA\"\n",
            "    ],\n",
            "    \"A\": [\n",
            "        \"+TA\",\n",
            "        \"€\"\n",
            "    ],\n",
            "    \"T\": [\n",
            "        \"FB\"\n",
            "    ],\n",
            "    \"B\": [\n",
            "        \"*FB\",\n",
            "        \"€\"\n",
            "    ],\n",
            "    \"F\": [\n",
            "        \"(E)\",\n",
            "        \"id\"\n",
            "    ]\n",
            "}\n"
          ]
        }
      ]
    },
    {
      "cell_type": "code",
      "source": [
        "print(noTerminales)\n",
        "print(terminales)"
      ],
      "metadata": {
        "colab": {
          "base_uri": "https://localhost:8080/"
        },
        "id": "P-5gdu_VMurv",
        "outputId": "b283d073-a312-45e9-ee35-bccea5a0d2d8"
      },
      "execution_count": null,
      "outputs": [
        {
          "output_type": "stream",
          "name": "stdout",
          "text": [
            "['E', 'A', 'T', 'B', 'F']\n",
            "['+', '*', 'id', '€']\n"
          ]
        }
      ]
    },
    {
      "cell_type": "code",
      "source": [
        "generarPrimerosTotales()\n",
        "print(json.dumps(primerosTotal, indent=4, ensure_ascii=False))"
      ],
      "metadata": {
        "colab": {
          "base_uri": "https://localhost:8080/"
        },
        "id": "DkRfgDi2RmY9",
        "outputId": "db597ca6-0521-4f9a-d611-394e79cf7abc"
      },
      "execution_count": null,
      "outputs": [
        {
          "output_type": "stream",
          "name": "stdout",
          "text": [
            "{\n",
            "    \"E\": [\n",
            "        \"id\",\n",
            "        \"(\"\n",
            "    ],\n",
            "    \"A\": [\n",
            "        \"+\",\n",
            "        \"€\"\n",
            "    ],\n",
            "    \"T\": [\n",
            "        \"id\",\n",
            "        \"(\"\n",
            "    ],\n",
            "    \"B\": [\n",
            "        \"*\",\n",
            "        \"€\"\n",
            "    ],\n",
            "    \"F\": [\n",
            "        \"id\",\n",
            "        \"(\"\n",
            "    ]\n",
            "}\n"
          ]
        }
      ]
    },
    {
      "cell_type": "code",
      "source": [
        "generarSiguientesTotales()\n",
        "print(json.dumps(siguientesTotal, indent=4, ensure_ascii=False))"
      ],
      "metadata": {
        "colab": {
          "base_uri": "https://localhost:8080/"
        },
        "id": "Bos6AOBTYfKC",
        "outputId": "588bc639-3c45-48fd-a6cf-2c6be66b29e0"
      },
      "execution_count": null,
      "outputs": [
        {
          "output_type": "stream",
          "name": "stdout",
          "text": [
            "{\n",
            "    \"E\": [\n",
            "        \")\",\n",
            "        \"$\"\n",
            "    ],\n",
            "    \"T\": [\n",
            "        \")\",\n",
            "        \"+\",\n",
            "        \"$\"\n",
            "    ],\n",
            "    \"A\": [\n",
            "        \")\",\n",
            "        \"$\"\n",
            "    ],\n",
            "    \"F\": [\n",
            "        \")\",\n",
            "        \"*\",\n",
            "        \"$\",\n",
            "        \"+\"\n",
            "    ],\n",
            "    \"B\": [\n",
            "        \")\",\n",
            "        \"+\",\n",
            "        \"$\"\n",
            "    ]\n",
            "}\n"
          ]
        }
      ]
    },
    {
      "cell_type": "code",
      "source": [
        "tablaParsing = {}\n",
        "\n",
        "def generarTablaParsing():\n",
        "  for key in noTerminales:\n",
        "    tablaParsing[key] = {}\n",
        "    if primerosTotal[key]:\n",
        "      produccion = 0\n",
        "      for primerosProduccion in primerosPorProduccion[key]:\n",
        "        for i in range(0, len(primerosProduccion)):\n",
        "          if primerosProduccion[i] != \"€\":\n",
        "            tablaParsing[key][primerosProduccion[i]] = gramatica[key][produccion]\n",
        "          else:\n",
        "            for siguiente in siguientesTotal[key]:\n",
        "              tablaParsing[key][siguiente] = gramatica[key][produccion]\n",
        "        produccion += 1"
      ],
      "metadata": {
        "id": "Kt61P0-AvcTa"
      },
      "execution_count": null,
      "outputs": []
    },
    {
      "cell_type": "code",
      "source": [
        "generarTablaParsing()\n",
        "print(json.dumps(tablaParsing, indent=4, ensure_ascii=False))"
      ],
      "metadata": {
        "colab": {
          "base_uri": "https://localhost:8080/"
        },
        "id": "-sq2p8oAtXLH",
        "outputId": "c0b83c29-4287-4d6a-c457-b640dde09b5b"
      },
      "execution_count": null,
      "outputs": [
        {
          "output_type": "stream",
          "name": "stdout",
          "text": [
            "{\n",
            "    \"E\": {\n",
            "        \"id\": \"TA\",\n",
            "        \"(\": \"TA\"\n",
            "    },\n",
            "    \"A\": {\n",
            "        \"+\": \"+TA\",\n",
            "        \")\": \"€\",\n",
            "        \"$\": \"€\"\n",
            "    },\n",
            "    \"T\": {\n",
            "        \"id\": \"FB\",\n",
            "        \"(\": \"FB\"\n",
            "    },\n",
            "    \"B\": {\n",
            "        \"*\": \"*FB\",\n",
            "        \")\": \"€\",\n",
            "        \"+\": \"€\",\n",
            "        \"$\": \"€\"\n",
            "    },\n",
            "    \"F\": {\n",
            "        \"(\": \"(E)\",\n",
            "        \"id\": \"id\"\n",
            "    }\n",
            "}\n"
          ]
        }
      ]
    },
    {
      "cell_type": "code",
      "source": [
        "tokens = []\n",
        "\n",
        "def tokenize(s):\n",
        "  global tokens\n",
        "  s += \" $\"\n",
        "  tokens = s.split(\" \")\n",
        "  lecturaGramatica()"
      ],
      "metadata": {
        "id": "tXbSrDJazWL-"
      },
      "execution_count": null,
      "outputs": []
    },
    {
      "cell_type": "code",
      "source": [
        "def analisisSintacticoPredictivo():\n",
        "  pila = [\"$\"]\n",
        "  pila.append(noTerminales[0])\n",
        "  tokenActual = 0\n",
        "  a = tokens[tokenActual]\n",
        "  X = pila[-1]\n",
        "  root = Node(X)\n",
        "  padre = root\n",
        "  while(X != \"$\"):\n",
        "    if X == a:\n",
        "      for hijo in padre.children:\n",
        "        if hijo.name == X:\n",
        "          padre = hijo\n",
        "      while(util.leftsibling(padre) == None and padre != root):\n",
        "          padre = padre.parent\n",
        "      if padre != root:\n",
        "        padre = padre.parent\n",
        "      pila.pop(-1)\n",
        "      tokenActual += 1\n",
        "      a = tokens[tokenActual]\n",
        "    elif X in terminales and X != \"€\":\n",
        "      print(\"Error, \", X, \"es un terminal\")\n",
        "      return\n",
        "    elif X == \"€\":\n",
        "      for hijo in padre.children:\n",
        "        if hijo.name == X:\n",
        "          padre = hijo\n",
        "      while(util.leftsibling(padre) == None and padre != root):\n",
        "          padre = padre.parent\n",
        "      if padre != root:\n",
        "        padre = padre.parent\n",
        "      pila.pop(-1)\n",
        "    elif X not in tablaParsing:\n",
        "      print(\"Error\", X, \"no está en la tabla parsing\")\n",
        "      return\n",
        "    elif X in tablaParsing:\n",
        "      if a not in tablaParsing[X]:\n",
        "        print(\"Error\", X, a, \"no está en la tabla parsing\")\n",
        "        return\n",
        "      else: \n",
        "        if padre != None:\n",
        "          for hijo in padre.children:\n",
        "            if hijo.name == pila[-1]:\n",
        "              padre = hijo\n",
        "              break\n",
        "        pila.pop(-1)\n",
        "        terminalActual = \"\"\n",
        "        for caracter in tablaParsing[X][a][::-1]:\n",
        "          if caracter in noTerminales:\n",
        "            if padre != None:\n",
        "              Node(caracter, parent=padre)\n",
        "            pila.append(caracter)  \n",
        "          else:        \n",
        "            terminalActual += caracter\n",
        "          if terminalActual[::-1] in terminales: \n",
        "            if padre != None:\n",
        "              Node(terminalActual[::-1], parent=padre)\n",
        "            pila.append(terminalActual[::-1])\n",
        "            terminalActual = \"\"\n",
        "    X = pila[-1]\n",
        "  for pre, fill, node in RenderTree(root, childiter=reversed):\n",
        "    print(\"%s%s\" % (pre, node.name))\n",
        "  UniqueDotExporter(root).to_picture(\"arbol.png\")"
      ],
      "metadata": {
        "id": "nGGILJTcx_eY"
      },
      "execution_count": null,
      "outputs": []
    },
    {
      "cell_type": "code",
      "source": [
        "tokenize(\"id + id * id\")\n",
        "#tokenize(\"( x ; ( x ) )\")"
      ],
      "metadata": {
        "id": "ZdaB0-xw2ViU"
      },
      "execution_count": null,
      "outputs": []
    },
    {
      "cell_type": "code",
      "source": [
        "print(tokens)"
      ],
      "metadata": {
        "colab": {
          "base_uri": "https://localhost:8080/"
        },
        "id": "DqAQ56H45l1U",
        "outputId": "45fcafce-6271-4ad0-f529-5b36893851ae"
      },
      "execution_count": null,
      "outputs": [
        {
          "output_type": "stream",
          "name": "stdout",
          "text": [
            "['id', '+', 'id', '*', 'id', '$']\n"
          ]
        }
      ]
    },
    {
      "cell_type": "code",
      "source": [
        "analisisSintacticoPredictivo()"
      ],
      "metadata": {
        "colab": {
          "base_uri": "https://localhost:8080/"
        },
        "id": "yesaEolZy-je",
        "outputId": "96e3850b-8f11-4d0b-f925-8dd56402561f"
      },
      "execution_count": null,
      "outputs": [
        {
          "output_type": "stream",
          "name": "stdout",
          "text": [
            "E\n",
            "├── T\n",
            "│   ├── F\n",
            "│   │   └── id\n",
            "│   └── B\n",
            "│       └── €\n",
            "└── A\n",
            "    ├── +\n",
            "    ├── T\n",
            "    │   ├── F\n",
            "    │   │   └── id\n",
            "    │   └── B\n",
            "    │       ├── *\n",
            "    │       ├── F\n",
            "    │       │   └── id\n",
            "    │       └── B\n",
            "    │           └── €\n",
            "    └── A\n",
            "        └── €\n"
          ]
        }
      ]
    },
    {
      "cell_type": "code",
      "source": [
        "Image('arbol.png')\n",
        "# Se uso una libreria para crear la imagen del arbol, pero fue imposible decirle el orden de los nodos, por lo cuál se ven los nodos de derecha a izquierda en vez de izquierda a derecha"
      ],
      "metadata": {
        "colab": {
          "base_uri": "https://localhost:8080/",
          "height": 556
        },
        "id": "dYeOTn20pI_s",
        "outputId": "f250a652-1342-4594-a7a5-00edf94cd077"
      },
      "execution_count": null,
      "outputs": [
        {
          "output_type": "execute_result",
          "data": {
            "image/png": "[encoded data removed]",
            "text/plain": [
              "<IPython.core.display.Image object>"
            ]
          },
          "metadata": {},
          "execution_count": 33
        }
      ]
    }
  ]
}